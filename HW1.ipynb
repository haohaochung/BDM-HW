{
 "cells": [
  {
   "cell_type": "code",
   "execution_count": 1,
   "metadata": {},
   "outputs": [
    {
     "data": {
      "text/plain": [
       "'local[*]'"
      ]
     },
     "execution_count": 1,
     "metadata": {},
     "output_type": "execute_result"
    }
   ],
   "source": [
    "sc.master"
   ]
  },
  {
   "cell_type": "code",
   "execution_count": 2,
   "metadata": {},
   "outputs": [],
   "source": [
    "workspace='file:/home/wei/文件/研究所/BDM/HW1/'\n",
    "data=sc.textFile(workspace + 'household_power_consumption.txt')\n",
    "data=data.map(lambda x:x.split(';'))\n",
    "header=data.first()\n",
    "data=data.filter(lambda x:x!=header)\\\n",
    "         .filter(lambda x:x[2]!='?' and x[3]!='?' and x[4]!='?' and x[5]!='?')\\\n",
    "         .map(lambda x:[float(x[2]), float(x[3]), float(x[4]), float(x[5])])"
   ]
  },
  {
   "cell_type": "code",
   "execution_count": 3,
   "metadata": {},
   "outputs": [
    {
     "name": "stdout",
     "output_type": "stream",
     "text": [
      "[0.076, 0.0, 223.2, 0.2]\n"
     ]
    }
   ],
   "source": [
    "Min=list()\n",
    "for i in range(4):\n",
    "    Min.append(data.map(lambda x:x[i])\\\n",
    "                   .reduce(lambda x, y:x if x<y else y))\n",
    "print(Min)"
   ]
  },
  {
   "cell_type": "code",
   "execution_count": 4,
   "metadata": {},
   "outputs": [
    {
     "name": "stdout",
     "output_type": "stream",
     "text": [
      "[11.122, 1.39, 254.15, 48.4]\n"
     ]
    }
   ],
   "source": [
    "Max=list()\n",
    "for i in range(4):\n",
    "    Max.append(data.map(lambda x:x[i])\\\n",
    "                   .reduce(lambda x, y:x if x>y else y))\n",
    "print(Max)"
   ]
  },
  {
   "cell_type": "code",
   "execution_count": 5,
   "metadata": {},
   "outputs": [
    {
     "name": "stdout",
     "output_type": "stream",
     "text": [
      "2049280\n"
     ]
    }
   ],
   "source": [
    "Count=data.map(lambda x:1)\\\n",
    "          .reduce(lambda x, y:x+y)\n",
    "print(Count)"
   ]
  },
  {
   "cell_type": "code",
   "execution_count": 6,
   "metadata": {},
   "outputs": [
    {
     "name": "stdout",
     "output_type": "stream",
     "text": [
      "[1.0916150365005446, 0.12371447630388221, 240.8398579745135, 4.627759310588324]\n"
     ]
    }
   ],
   "source": [
    "Mean=list()\n",
    "for i in range(4):\n",
    "    _temp=data.map(lambda x:x[i])\\\n",
    "              .reduce(lambda x, y:x+y)\n",
    "    Mean.append(_temp/Count)\n",
    "print(Mean)"
   ]
  },
  {
   "cell_type": "code",
   "execution_count": 7,
   "metadata": {},
   "outputs": [
    {
     "name": "stdout",
     "output_type": "stream",
     "text": [
      "[1.0572939031266613, 0.11272195204783488, 3.239985888491343, 4.444395175407247]\n"
     ]
    }
   ],
   "source": [
    "Std=list()\n",
    "for i in range(4):\n",
    "    _temp=data.map(lambda x:(x[i]-Mean[i])**2)\\\n",
    "              .reduce(lambda x, y:x+y)\n",
    "    Std.append((_temp/Count)**0.5)\n",
    "print(Std)"
   ]
  },
  {
   "cell_type": "code",
   "execution_count": 8,
   "metadata": {},
   "outputs": [],
   "source": [
    "Normalization=data.map(lambda x:[(x[i]-Min[i])/(Max[i]-Min[i]) for i in range(4)]).collect()\n",
    "out=open('Normalization.txt','w')\n",
    "out.write(str(header[2:6]) + '\\n')\n",
    "for i in range(len(Normalization)):\n",
    "    out.write(str(Normalization[i]) + '\\n')\n",
    "out.close()"
   ]
  }
 ],
 "metadata": {
  "kernelspec": {
   "display_name": "Python 3",
   "language": "python",
   "name": "python3"
  },
  "language_info": {
   "codemirror_mode": {
    "name": "ipython",
    "version": 3
   },
   "file_extension": ".py",
   "mimetype": "text/x-python",
   "name": "python",
   "nbconvert_exporter": "python",
   "pygments_lexer": "ipython3",
   "version": "3.6.4"
  }
 },
 "nbformat": 4,
 "nbformat_minor": 2
}
