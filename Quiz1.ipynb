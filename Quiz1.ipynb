{
 "cells": [
  {
   "cell_type": "code",
   "execution_count": 1,
   "metadata": {},
   "outputs": [],
   "source": [
    "workspace='file:/home/wei/GitHub/BDM-HW/data/'\n",
    "data=sqlContext.read.format('csv')\\\n",
    "                    .option(\"header\", \"false\")\\\n",
    "                    .option(\"inferschema\", \"true\")\\\n",
    "                    .option(\"mode\", \"DROPMALFORMED\")\\\n",
    "                    .load(workspace + 'kddcup.data.corrected')"
   ]
  },
  {
   "cell_type": "code",
   "execution_count": 47,
   "metadata": {},
   "outputs": [
    {
     "name": "stdout",
     "output_type": "stream",
     "text": [
      "+---+---+----+---+---+----+---+---+---+---+----+----+----+----+----+----+----+----+----+----+----+----+----+----+----+----+----+----+----+----+----+----+----+----+----+----+----+----+----+----+----+-------+\n",
      "|_c0|_c1| _c2|_c3|_c4| _c5|_c6|_c7|_c8|_c9|_c10|_c11|_c12|_c13|_c14|_c15|_c16|_c17|_c18|_c19|_c20|_c21|_c22|_c23|_c24|_c25|_c26|_c27|_c28|_c29|_c30|_c31|_c32|_c33|_c34|_c35|_c36|_c37|_c38|_c39|_c40|   _c41|\n",
      "+---+---+----+---+---+----+---+---+---+---+----+----+----+----+----+----+----+----+----+----+----+----+----+----+----+----+----+----+----+----+----+----+----+----+----+----+----+----+----+----+----+-------+\n",
      "|  0|tcp|http| SF|181|5450|  0|  0|  0|  0|   0|   1|   0|   0|   0|   0|   0|   0|   0|   0|   0|   0|   8|   8| 0.0| 0.0| 0.0| 0.0| 1.0| 0.0| 0.0|   9|   9| 1.0| 0.0|0.11| 0.0| 0.0| 0.0| 0.0| 0.0|normal.|\n",
      "|  0|tcp|http| SF|239| 486|  0|  0|  0|  0|   0|   1|   0|   0|   0|   0|   0|   0|   0|   0|   0|   0|   8|   8| 0.0| 0.0| 0.0| 0.0| 1.0| 0.0| 0.0|  19|  19| 1.0| 0.0|0.05| 0.0| 0.0| 0.0| 0.0| 0.0|normal.|\n",
      "|  0|tcp|http| SF|235|1337|  0|  0|  0|  0|   0|   1|   0|   0|   0|   0|   0|   0|   0|   0|   0|   0|   8|   8| 0.0| 0.0| 0.0| 0.0| 1.0| 0.0| 0.0|  29|  29| 1.0| 0.0|0.03| 0.0| 0.0| 0.0| 0.0| 0.0|normal.|\n",
      "|  0|tcp|http| SF|219|1337|  0|  0|  0|  0|   0|   1|   0|   0|   0|   0|   0|   0|   0|   0|   0|   0|   6|   6| 0.0| 0.0| 0.0| 0.0| 1.0| 0.0| 0.0|  39|  39| 1.0| 0.0|0.03| 0.0| 0.0| 0.0| 0.0| 0.0|normal.|\n",
      "|  0|tcp|http| SF|217|2032|  0|  0|  0|  0|   0|   1|   0|   0|   0|   0|   0|   0|   0|   0|   0|   0|   6|   6| 0.0| 0.0| 0.0| 0.0| 1.0| 0.0| 0.0|  49|  49| 1.0| 0.0|0.02| 0.0| 0.0| 0.0| 0.0| 0.0|normal.|\n",
      "|  0|tcp|http| SF|217|2032|  0|  0|  0|  0|   0|   1|   0|   0|   0|   0|   0|   0|   0|   0|   0|   0|   6|   6| 0.0| 0.0| 0.0| 0.0| 1.0| 0.0| 0.0|  59|  59| 1.0| 0.0|0.02| 0.0| 0.0| 0.0| 0.0| 0.0|normal.|\n",
      "|  0|tcp|http| SF|212|1940|  0|  0|  0|  0|   0|   1|   0|   0|   0|   0|   0|   0|   0|   0|   0|   0|   1|   2| 0.0| 0.0| 0.0| 0.0| 1.0| 0.0| 1.0|   1|  69| 1.0| 0.0| 1.0|0.04| 0.0| 0.0| 0.0| 0.0|normal.|\n",
      "|  0|tcp|http| SF|159|4087|  0|  0|  0|  0|   0|   1|   0|   0|   0|   0|   0|   0|   0|   0|   0|   0|   5|   5| 0.0| 0.0| 0.0| 0.0| 1.0| 0.0| 0.0|  11|  79| 1.0| 0.0|0.09|0.04| 0.0| 0.0| 0.0| 0.0|normal.|\n",
      "|  0|tcp|http| SF|210| 151|  0|  0|  0|  0|   0|   1|   0|   0|   0|   0|   0|   0|   0|   0|   0|   0|   8|   8| 0.0| 0.0| 0.0| 0.0| 1.0| 0.0| 0.0|   8|  89| 1.0| 0.0|0.12|0.04| 0.0| 0.0| 0.0| 0.0|normal.|\n",
      "|  0|tcp|http| SF|212| 786|  0|  0|  0|  1|   0|   1|   0|   0|   0|   0|   0|   0|   0|   0|   0|   0|   8|   8| 0.0| 0.0| 0.0| 0.0| 1.0| 0.0| 0.0|   8|  99| 1.0| 0.0|0.12|0.05| 0.0| 0.0| 0.0| 0.0|normal.|\n",
      "|  0|tcp|http| SF|210| 624|  0|  0|  0|  0|   0|   1|   0|   0|   0|   0|   0|   0|   0|   0|   0|   0|  18|  18| 0.0| 0.0| 0.0| 0.0| 1.0| 0.0| 0.0|  18| 109| 1.0| 0.0|0.06|0.05| 0.0| 0.0| 0.0| 0.0|normal.|\n",
      "|  0|tcp|http| SF|177|1985|  0|  0|  0|  0|   0|   1|   0|   0|   0|   0|   0|   0|   0|   0|   0|   0|   1|   1| 0.0| 0.0| 0.0| 0.0| 1.0| 0.0| 0.0|  28| 119| 1.0| 0.0|0.04|0.04| 0.0| 0.0| 0.0| 0.0|normal.|\n",
      "|  0|tcp|http| SF|222| 773|  0|  0|  0|  0|   0|   1|   0|   0|   0|   0|   0|   0|   0|   0|   0|   0|  11|  11| 0.0| 0.0| 0.0| 0.0| 1.0| 0.0| 0.0|  38| 129| 1.0| 0.0|0.03|0.04| 0.0| 0.0| 0.0| 0.0|normal.|\n",
      "|  0|tcp|http| SF|256|1169|  0|  0|  0|  0|   0|   1|   0|   0|   0|   0|   0|   0|   0|   0|   0|   0|   4|   4| 0.0| 0.0| 0.0| 0.0| 1.0| 0.0| 0.0|   4| 139| 1.0| 0.0|0.25|0.04| 0.0| 0.0| 0.0| 0.0|normal.|\n",
      "|  0|tcp|http| SF|241| 259|  0|  0|  0|  0|   0|   1|   0|   0|   0|   0|   0|   0|   0|   0|   0|   0|   1|   1| 0.0| 0.0| 0.0| 0.0| 1.0| 0.0| 0.0|  14| 149| 1.0| 0.0|0.07|0.04| 0.0| 0.0| 0.0| 0.0|normal.|\n",
      "|  0|tcp|http| SF|260|1837|  0|  0|  0|  0|   0|   1|   0|   0|   0|   0|   0|   0|   0|   0|   0|   0|  11|  11| 0.0| 0.0| 0.0| 0.0| 1.0| 0.0| 0.0|  24| 159| 1.0| 0.0|0.04|0.04| 0.0| 0.0| 0.0| 0.0|normal.|\n",
      "|  0|tcp|http| SF|241| 261|  0|  0|  0|  0|   0|   1|   0|   0|   0|   0|   0|   0|   0|   0|   0|   0|   2|   2| 0.0| 0.0| 0.0| 0.0| 1.0| 0.0| 0.0|  34| 169| 1.0| 0.0|0.03|0.04| 0.0| 0.0| 0.0| 0.0|normal.|\n",
      "|  0|tcp|http| SF|257| 818|  0|  0|  0|  0|   0|   1|   0|   0|   0|   0|   0|   0|   0|   0|   0|   0|  12|  12| 0.0| 0.0| 0.0| 0.0| 1.0| 0.0| 0.0|  44| 179| 1.0| 0.0|0.02|0.03| 0.0| 0.0| 0.0| 0.0|normal.|\n",
      "|  0|tcp|http| SF|233| 255|  0|  0|  0|  0|   0|   1|   0|   0|   0|   0|   0|   0|   0|   0|   0|   0|   2|   8| 0.0| 0.0| 0.0| 0.0| 1.0| 0.0|0.25|  54| 189| 1.0| 0.0|0.02|0.03| 0.0| 0.0| 0.0| 0.0|normal.|\n",
      "|  0|tcp|http| SF|233| 504|  0|  0|  0|  0|   0|   1|   0|   0|   0|   0|   0|   0|   0|   0|   0|   0|   7|   7| 0.0| 0.0| 0.0| 0.0| 1.0| 0.0| 0.0|  64| 199| 1.0| 0.0|0.02|0.03| 0.0| 0.0| 0.0| 0.0|normal.|\n",
      "+---+---+----+---+---+----+---+---+---+---+----+----+----+----+----+----+----+----+----+----+----+----+----+----+----+----+----+----+----+----+----+----+----+----+----+----+----+----+----+----+----+-------+\n",
      "only showing top 20 rows\n",
      "\n"
     ]
    }
   ],
   "source": [
    "data.show()"
   ]
  },
  {
   "cell_type": "markdown",
   "metadata": {},
   "source": [
    "(1)"
   ]
  },
  {
   "cell_type": "code",
   "execution_count": 2,
   "metadata": {},
   "outputs": [
    {
     "name": "stdout",
     "output_type": "stream",
     "text": [
      "+-------+-----------------+------------------+-----------------+--------------------+\n",
      "|summary|              _c0|               _c4|              _c5|                _c10|\n",
      "+-------+-----------------+------------------+-----------------+--------------------+\n",
      "|  count|           494021|            494021|           494021|              494021|\n",
      "|   mean|47.97930249928647|3025.6102959185946|868.5324247349809|1.518154086567170...|\n",
      "| stddev|707.7464723053723| 988218.1010503978|33040.00125210254| 0.01551959690293324|\n",
      "|    min|                0|                 0|                0|                   0|\n",
      "|    max|            58329|         693375640|          5155468|                   5|\n",
      "+-------+-----------------+------------------+-----------------+--------------------+\n",
      "\n"
     ]
    }
   ],
   "source": [
    "q1 = data.describe('_c0', '_c4', '_c5', '_c10')\n",
    "q1.show()"
   ]
  },
  {
   "cell_type": "code",
   "execution_count": 36,
   "metadata": {},
   "outputs": [
    {
     "name": "stdout",
     "output_type": "stream",
     "text": [
      "mode: [0, 256, 2032, 0]\n",
      "median: [0, 520, 0, 0]\n"
     ]
    }
   ],
   "source": [
    "q1_data = data.select(['_c0', '_c4', '_c5', '_c10']).rdd.map(list).collect()\n",
    "q1_data = sc.parallelize(q1_data)\n",
    "\n",
    "mode = [q1_data.map(lambda x:(x[i], 1)).reduceByKey(add).collect()[0][0] for i in range(4)]\n",
    "median = [q1_data.map(lambda x:x[i]).sortBy(lambda x:x, False).collect()[int(494021/2)] for i in range(4)]\n",
    "\n",
    "print('mode:', mode)\n",
    "print('median:', median)"
   ]
  },
  {
   "cell_type": "markdown",
   "metadata": {},
   "source": [
    "(2)"
   ]
  },
  {
   "cell_type": "code",
   "execution_count": 49,
   "metadata": {},
   "outputs": [
    {
     "name": "stdout",
     "output_type": "stream",
     "text": [
      "protocol_type:\n",
      "[('icmp', 283602), ('tcp', 190065), ('udp', 20354)] \n",
      "\n",
      "service:\n",
      "[('ecr_i', 281400), ('private', 110893), ('http', 64293), ('smtp', 9723), ('other', 7237), ('domain_u', 5863), ('ftp_data', 4721), ('eco_i', 1642), ('ftp', 798), ('finger', 670), ('urp_i', 538), ('telnet', 513), ('ntp_u', 380), ('auth', 328), ('pop_3', 202), ('time', 157), ('csnet_ns', 126), ('remote_job', 120), ('gopher', 117), ('imap4', 117), ('domain', 116), ('discard', 116), ('iso_tsap', 115), ('systat', 115), ('shell', 112), ('echo', 112), ('rje', 111), ('sql_net', 110), ('whois', 110), ('printer', 109), ('courier', 108), ('nntp', 108), ('mtp', 107), ('netbios_ssn', 107), ('sunrpc', 107), ('uucp_path', 106), ('vmnet', 106), ('klogin', 106), ('bgp', 106), ('uucp', 106), ('nnsp', 105), ('supdup', 105), ('ssh', 105), ('login', 104), ('hostnames', 104), ('daytime', 103), ('efs', 103), ('link', 102), ('netbios_ns', 102), ('pop_2', 101), ('ldap', 101), ('http_443', 99), ('netbios_dgm', 99), ('exec', 99), ('kshell', 98), ('name', 98), ('ctf', 97), ('netstat', 95), ('Z39_50', 92), ('IRC', 43), ('urh_i', 14), ('X11', 11), ('tim_i', 7), ('red_i', 1), ('pm_dump', 1), ('tftp_u', 1)] \n",
      "\n",
      "flag:\n",
      "[('SF', 378440), ('S0', 87007), ('REJ', 26875), ('RSTR', 903), ('RSTO', 579), ('SH', 107), ('S1', 57), ('S2', 24), ('RSTOS0', 11), ('S3', 10), ('OTH', 8)] \n",
      "\n",
      "logged_in:\n",
      "[(0, 420784), (1, 73237)] \n",
      "\n",
      "intrusion_type:\n",
      "[('smurf.', 280790), ('neptune.', 107201), ('normal.', 97278), ('back.', 2203), ('satan.', 1589), ('ipsweep.', 1247), ('portsweep.', 1040), ('warezclient.', 1020), ('teardrop.', 979), ('pod.', 264), ('nmap.', 231), ('guess_passwd.', 53), ('buffer_overflow.', 30), ('land.', 21), ('warezmaster.', 20), ('imap.', 12), ('rootkit.', 10), ('loadmodule.', 9), ('ftp_write.', 8), ('multihop.', 7), ('phf.', 4), ('perl.', 3), ('spy.', 2)] \n",
      "\n"
     ]
    }
   ],
   "source": [
    "from operator import add\n",
    "\n",
    "q2_data = data.select(['_c1', '_c2', '_c3', '_c11', '_c41']).rdd.map(list).collect()\n",
    "q2_data = sc.parallelize(q2_data)\n",
    "\n",
    "result = [q2_data.map(lambda x:(x[i], 1)).reduceByKey(add).sortBy(lambda x:x[1], False).collect() for i in range(5)]\n",
    "\n",
    "header = ['protocol_type', 'service', 'flag', 'logged_in', 'intrusion_type']\n",
    "for i, h in enumerate(header):\n",
    "    print(h+str(':'))\n",
    "    print(result[i], '\\n')"
   ]
  },
  {
   "cell_type": "markdown",
   "metadata": {},
   "source": [
    "(3)"
   ]
  },
  {
   "cell_type": "code",
   "execution_count": 57,
   "metadata": {},
   "outputs": [
    {
     "name": "stdout",
     "output_type": "stream",
     "text": [
      "intrusionType: loadmodule.\n",
      "[('telnet', 5), ('ftp_data', 3), ('ftp', 1)]\n",
      "intrusionType: neptune.\n",
      "[('private', 101317), ('telnet', 197), ('http', 192), ('finger', 177), ('ftp_data', 170), ('csnet_ns', 123), ('smtp', 120), ('remote_job', 118), ('pop_3', 118), ('iso_tsap', 115), ('discard', 115), ('systat', 113), ('domain', 112), ('gopher', 112), ('shell', 111), ('echo', 111), ('sql_net', 109), ('auth', 108), ('rje', 108), ('courier', 107), ('printer', 107), ('whois', 107), ('netbios_ssn', 106), ('nntp', 106), ('klogin', 106), ('bgp', 106), ('nnsp', 105), ('uucp_path', 105), ('mtp', 105), ('imap4', 105), ('uucp', 104), ('sunrpc', 104), ('ftp', 104), ('time', 103), ('daytime', 102), ('ssh', 102), ('login', 102), ('hostnames', 102), ('efs', 102), ('supdup', 101), ('vmnet', 101), ('pop_2', 101), ('ldap', 101), ('netbios_ns', 101), ('link', 99), ('netbios_dgm', 99), ('exec', 99), ('http_443', 98), ('kshell', 98), ('name', 97), ('ctf', 96), ('netstat', 92), ('other', 91), ('Z39_50', 91)]\n",
      "intrusionType: guess_passwd.\n",
      "[('telnet', 53)]\n",
      "intrusionType: pod.\n",
      "[('ecr_i', 259), ('tim_i', 5)]\n",
      "intrusionType: smurf.\n",
      "[('ecr_i', 280790)]\n",
      "intrusionType: ipsweep.\n",
      "[('eco_i', 1149), ('private', 68), ('ecr_i', 4), ('gopher', 3), ('http', 3), ('ftp_data', 3), ('time', 2), ('mtp', 2), ('link', 2), ('rje', 2), ('finger', 1), ('ssh', 1), ('telnet', 1), ('ftp', 1), ('name', 1), ('smtp', 1), ('whois', 1), ('remote_job', 1), ('domain', 1)]\n",
      "intrusionType: multihop.\n",
      "[('ftp_data', 3), ('telnet', 2), ('ftp', 2)]\n",
      "intrusionType: warezmaster.\n",
      "[('ftp_data', 18), ('ftp', 2)]\n",
      "intrusionType: rootkit.\n",
      "[('telnet', 5), ('other', 3), ('ftp', 1), ('ftp_data', 1)]\n",
      "intrusionType: buffer_overflow.\n",
      "[('telnet', 21), ('ftp_data', 8), ('ftp', 1)]\n",
      "intrusionType: back.\n",
      "[('http', 2203)]\n",
      "intrusionType: teardrop.\n",
      "[('private', 979)]\n",
      "intrusionType: warezclient.\n",
      "[('ftp_data', 708), ('ftp', 307), ('other', 5)]\n",
      "intrusionType: normal.\n",
      "[('http', 61886), ('smtp', 9598), ('private', 7366), ('domain_u', 5862), ('other', 5632), ('ftp_data', 3798), ('urp_i', 537), ('finger', 468), ('eco_i', 389), ('ntp_u', 380), ('ftp', 373), ('ecr_i', 345), ('auth', 220), ('telnet', 219), ('pop_3', 79), ('time', 52), ('IRC', 42), ('urh_i', 14), ('X11', 9), ('domain', 3), ('tim_i', 2), ('shell', 1), ('tftp_u', 1), ('red_i', 1), ('ssh', 1)]\n",
      "intrusionType: perl.\n",
      "[('telnet', 3)]\n",
      "intrusionType: land.\n",
      "[('finger', 20), ('telnet', 1)]\n",
      "intrusionType: imap.\n",
      "[('imap4', 12)]\n",
      "intrusionType: phf.\n",
      "[('http', 4)]\n",
      "intrusionType: nmap.\n",
      "[('private', 124), ('eco_i', 102), ('ctf', 1), ('pop_3', 1), ('ecr_i', 1), ('telnet', 1), ('nntp', 1)]\n",
      "intrusionType: portsweep.\n",
      "[('private', 725), ('other', 260), ('supdup', 4), ('vmnet', 4), ('pop_3', 3), ('ftp', 3), ('csnet_ns', 3), ('http', 3), ('systat', 2), ('smtp', 2), ('printer', 2), ('whois', 2), ('ftp_data', 2), ('telnet', 2), ('sunrpc', 2), ('netstat', 2), ('finger', 1), ('sql_net', 1), ('netbios_ns', 1), ('daytime', 1), ('remote_job', 1), ('uucp_path', 1), ('Z39_50', 1), ('ecr_i', 1), ('rje', 1), ('efs', 1), ('echo', 1), ('hostnames', 1), ('uucp', 1), ('gopher', 1), ('courier', 1), ('ssh', 1), ('http_443', 1), ('link', 1), ('netbios_ssn', 1)]\n",
      "intrusionType: spy.\n",
      "[('telnet', 2)]\n",
      "intrusionType: ftp_write.\n",
      "[('ftp_data', 4), ('ftp', 2), ('login', 2)]\n",
      "intrusionType: satan.\n",
      "[('other', 1246), ('private', 314), ('ftp_data', 3), ('finger', 3), ('http', 2), ('X11', 2), ('smtp', 2), ('eco_i', 2), ('gopher', 1), ('vmnet', 1), ('IRC', 1), ('ftp', 1), ('pm_dump', 1), ('discard', 1), ('pop_3', 1), ('telnet', 1), ('uucp', 1), ('sunrpc', 1), ('nntp', 1), ('netstat', 1), ('urp_i', 1), ('domain_u', 1), ('hostnames', 1)]\n"
     ]
    }
   ],
   "source": [
    "q3_data = data.select(['_c2', '_c41']).rdd.map(list).collect()\n",
    "q3_data = sc.parallelize(q3_data)\n",
    "\n",
    "intrusionType = q3_data.map(lambda x:x[1]).distinct().collect()\n",
    "result = [q3_data.map(lambda x:((x[0], x[1]), 1)).reduceByKey(add).filter(lambda x:x[0][1] == intrusionType[i])\\\n",
    ".map(lambda x:(x[0][0], x[1])).sortBy(lambda x:x[1], False).collect() for i in range(len(intrusionType))]\n",
    "\n",
    "for i, t in enumerate(intrusionType):\n",
    "    print('intrusionType:', t)\n",
    "    print(result[i])"
   ]
  }
 ],
 "metadata": {
  "kernelspec": {
   "display_name": "Python 3",
   "language": "python",
   "name": "python3"
  },
  "language_info": {
   "codemirror_mode": {
    "name": "ipython",
    "version": 3
   },
   "file_extension": ".py",
   "mimetype": "text/x-python",
   "name": "python",
   "nbconvert_exporter": "python",
   "pygments_lexer": "ipython3",
   "version": "3.6.4"
  }
 },
 "nbformat": 4,
 "nbformat_minor": 2
}
