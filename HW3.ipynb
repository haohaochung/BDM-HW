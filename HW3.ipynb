{
 "cells": [
  {
   "cell_type": "markdown",
   "metadata": {},
   "source": [
    "# read data in spark"
   ]
  },
  {
   "cell_type": "code",
   "execution_count": 34,
   "metadata": {},
   "outputs": [],
   "source": [
    "import os\n",
    "\n",
    "dataPath = './data'\n",
    "\n",
    "newsArticles = list()\n",
    "for file in sorted(os.listdir(dataPath)):\n",
    "    if 'reut' in file:\n",
    "        with open(os.path.join(dataPath, file)) as data:\n",
    "            for newsArticle in str(data.read()).split('<BODY>')[1:]:\n",
    "                newsArticles.append(news.split('</BODY>')[0])\n",
    "                \n",
    "newsArticles = sc.parallelize(newsArticles)"
   ]
  },
  {
   "cell_type": "markdown",
   "metadata": {},
   "source": [
    "# (1) Given the Reuters-21578 dataset, please calculate all k-shingles and output the set representation of the text dataset as a matrix."
   ]
  },
  {
   "cell_type": "code",
   "execution_count": 37,
   "metadata": {},
   "outputs": [
    {
     "data": {
      "text/plain": [
       "[\"Viacom International Inc said &lt;National\\nAmusements Inc> has again raised the value of its offer for\\nViacom's publicly held stock.\\n    The company said the special committee of its board plans\\nto meet later today to consider this offer and the one\\nsubmitted March one by &lt;MCV Holdings Inc>.\\n    A spokeswoman was unable to say if the committee met as\\nplanned yesterday.\\n    Viacom said National Amusements' Arsenal Holdings Inc\\nsubsidiary has raised the amount of cash it is offering for\\neach Viacom share by 75 cts to 42.75 dlrs while the value of\\nthe fraction of a share of exchangeable Arsenal Holdings\\npreferred to be included was raised 25 cts to 7.75 dlrs.\\n    National Amusements already owns 19.6 pct of Viacom's stock.\\n Reuter\\n&#3;\"]"
      ]
     },
     "execution_count": 37,
     "metadata": {},
     "output_type": "execute_result"
    }
   ],
   "source": [
    "newsArticles.take(1)"
   ]
  }
 ],
 "metadata": {
  "kernelspec": {
   "display_name": "Python 3",
   "language": "python",
   "name": "python3"
  },
  "language_info": {
   "codemirror_mode": {
    "name": "ipython",
    "version": 3
   },
   "file_extension": ".py",
   "mimetype": "text/x-python",
   "name": "python",
   "nbconvert_exporter": "python",
   "pygments_lexer": "ipython3",
   "version": "3.6.4"
  }
 },
 "nbformat": 4,
 "nbformat_minor": 2
}
