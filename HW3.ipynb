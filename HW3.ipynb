{
 "cells": [
  {
   "cell_type": "markdown",
   "metadata": {},
   "source": [
    "# get data body in spark"
   ]
  },
  {
   "cell_type": "code",
   "execution_count": 1,
   "metadata": {},
   "outputs": [
    {
     "name": "stdout",
     "output_type": "stream",
     "text": [
      "19043\n"
     ]
    },
    {
     "data": {
      "text/plain": [
       "['Paxar Corp said it has acquired Thermo-Print GmbH of Lohn, West Germany, a distributor of Paxar products, for undisclosed terms.  Reuter &#3;',\n",
       " 'Shr 10 cts vs 32 cts     Net 975,000 vs 3,145,000     Sales 159.1 mln vs 147.3 mln  Reuter &#3;',\n",
       " 'Key Tronic corp said it has received contracts to provide seven  original equipment manufacturers with which it has not done business recently with over 300,000 computer keyboards for delivery within the next 12 months.     The company said \"The new contracts represent an annual increase of approximately 25 pct in unit volume over last year.\"  Reuter &#3;']"
      ]
     },
     "execution_count": 1,
     "metadata": {},
     "output_type": "execute_result"
    }
   ],
   "source": [
    "data = sc.wholeTextFiles('data/reut2-*')\n",
    "newsArticles = data.map(lambda x:x[1]).flatMap(lambda x:x.split('<BODY>')[1:]).map(lambda x:x.split('</BODY>')[0]).map(lambda x:x.replace('\\n', ' '))\n",
    "\n",
    "print(newsArticles.count())\n",
    "newsArticles.take(3)"
   ]
  },
  {
   "cell_type": "markdown",
   "metadata": {},
   "source": [
    "# (1) Given the Reuters-21578 dataset, please calculate all k-shingles and output the set representation of the text dataset as a matrix."
   ]
  },
  {
   "cell_type": "code",
   "execution_count": 2,
   "metadata": {},
   "outputs": [
    {
     "data": {
      "text/plain": [
       "[['Pax',\n",
       "  'axa',\n",
       "  'xar',\n",
       "  'ar ',\n",
       "  'r C',\n",
       "  ' Co',\n",
       "  'Cor',\n",
       "  'orp',\n",
       "  'rp ',\n",
       "  'p s',\n",
       "  ' sa',\n",
       "  'sai',\n",
       "  'aid',\n",
       "  'id ',\n",
       "  'd i',\n",
       "  ' it',\n",
       "  'it ',\n",
       "  't h',\n",
       "  ' ha',\n",
       "  'has',\n",
       "  'as ',\n",
       "  's a',\n",
       "  ' ac',\n",
       "  'acq',\n",
       "  'cqu',\n",
       "  'qui',\n",
       "  'uir',\n",
       "  'ire',\n",
       "  'red',\n",
       "  'ed ',\n",
       "  'd T',\n",
       "  ' Th',\n",
       "  'The',\n",
       "  'her',\n",
       "  'erm',\n",
       "  'rmo',\n",
       "  'mo-',\n",
       "  'o-P',\n",
       "  '-Pr',\n",
       "  'Pri',\n",
       "  'rin',\n",
       "  'int',\n",
       "  'nt ',\n",
       "  't G',\n",
       "  ' Gm',\n",
       "  'Gmb',\n",
       "  'mbH',\n",
       "  'bH ',\n",
       "  'H o',\n",
       "  ' of',\n",
       "  'of ',\n",
       "  'f L',\n",
       "  ' Lo',\n",
       "  'Loh',\n",
       "  'ohn',\n",
       "  'hn,',\n",
       "  'n, ',\n",
       "  ', W',\n",
       "  ' We',\n",
       "  'Wes',\n",
       "  'est',\n",
       "  'st ',\n",
       "  't G',\n",
       "  ' Ge',\n",
       "  'Ger',\n",
       "  'erm',\n",
       "  'rma',\n",
       "  'man',\n",
       "  'any',\n",
       "  'ny,',\n",
       "  'y, ',\n",
       "  ', a',\n",
       "  ' a ',\n",
       "  'a d',\n",
       "  ' di',\n",
       "  'dis',\n",
       "  'ist',\n",
       "  'str',\n",
       "  'tri',\n",
       "  'rib',\n",
       "  'ibu',\n",
       "  'but',\n",
       "  'uto',\n",
       "  'tor',\n",
       "  'or ',\n",
       "  'r o',\n",
       "  ' of',\n",
       "  'of ',\n",
       "  'f P',\n",
       "  ' Pa',\n",
       "  'Pax',\n",
       "  'axa',\n",
       "  'xar',\n",
       "  'ar ',\n",
       "  'r p',\n",
       "  ' pr',\n",
       "  'pro',\n",
       "  'rod',\n",
       "  'odu',\n",
       "  'duc',\n",
       "  'uct',\n",
       "  'cts',\n",
       "  'ts,',\n",
       "  's, ',\n",
       "  ', f',\n",
       "  ' fo',\n",
       "  'for',\n",
       "  'or ',\n",
       "  'r u',\n",
       "  ' un',\n",
       "  'und',\n",
       "  'ndi',\n",
       "  'dis',\n",
       "  'isc',\n",
       "  'scl',\n",
       "  'clo',\n",
       "  'los',\n",
       "  'ose',\n",
       "  'sed',\n",
       "  'ed ',\n",
       "  'd t',\n",
       "  ' te',\n",
       "  'ter',\n",
       "  'erm',\n",
       "  'rms',\n",
       "  'ms.',\n",
       "  's. ',\n",
       "  '.  ',\n",
       "  '  R',\n",
       "  ' Re',\n",
       "  'Reu',\n",
       "  'eut',\n",
       "  'ute',\n",
       "  'ter',\n",
       "  'er ',\n",
       "  'r &',\n",
       "  ' &#',\n",
       "  '&#3',\n",
       "  '#3;']]"
      ]
     },
     "execution_count": 2,
     "metadata": {},
     "output_type": "execute_result"
    }
   ],
   "source": [
    "k = 3\n",
    "shingles = newsArticles.map(lambda x:[x[i:i+k] for i in range(len(x)-k+1)])\n",
    "shingles.take(1)"
   ]
  }
 ],
 "metadata": {
  "kernelspec": {
   "display_name": "Python 3",
   "language": "python",
   "name": "python3"
  },
  "language_info": {
   "codemirror_mode": {
    "name": "ipython",
    "version": 3
   },
   "file_extension": ".py",
   "mimetype": "text/x-python",
   "name": "python",
   "nbconvert_exporter": "python",
   "pygments_lexer": "ipython3",
   "version": "3.6.4"
  }
 },
 "nbformat": 4,
 "nbformat_minor": 2
}
