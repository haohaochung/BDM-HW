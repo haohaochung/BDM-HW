{
 "cells": [
  {
   "cell_type": "markdown",
   "metadata": {},
   "source": [
    "# get data body in spark"
   ]
  },
  {
   "cell_type": "code",
   "execution_count": 1,
   "metadata": {},
   "outputs": [
    {
     "data": {
      "text/plain": [
       "['Paxar Corp said it hasacquired Thermo-Print GmbH of Lohn, West Germany, a distributorof Paxar products, for undisclosed terms. Reuter&#3;',\n",
       " 'Shr 10 cts vs 32 cts    Net 975,000 vs 3,145,000    Sales 159.1 mln vs 147.3 mln Reuter&#3;',\n",
       " 'Key Tronic corp said it hasreceived contracts to provide seven  original equipmentmanufacturers with which it has not done business recently withover 300,000 computer keyboards for delivery within the next 12months.    The company said \"The new contracts represent an annualincrease of approximately 25 pct in unit volume over lastyear.\" Reuter&#3;',\n",
       " 'Canadian Bashaw Leduc Oil andGas Ltd said it agreed to merge with Erskine Resources Ltd.Terms were not disclosed.    Ownership of the combined company with 18.8 pct for thecurrent shareholders of Canadian Bashaw and 81.2 pct to thecurrent shareholders of Erskine, the companies said. Reuter&#3;',\n",
       " 'Entourage International Inc said it hada first quarter loss of 104,357 dlrs, after incurring 70,000dlrs in costs for an internal audit, a report for shareholdersand proxy soliciation and 24,000 dlrs in startup expenses foropening London offices.    The company went public during 1986.    Entourage also said it has started marketing a solidperfume packaged in a lipstick tube called \"Amadeus,\" retailingat 15 dlrs.    The company also said it has acquired North Country MediaGroup, a video productions company. Reuter&#3;']"
      ]
     },
     "execution_count": 1,
     "metadata": {},
     "output_type": "execute_result"
    }
   ],
   "source": [
    "data = sc.wholeTextFiles('data/reut2-*')\n",
    "newsArticles = data.map(lambda x:x[1]).flatMap(lambda x:x.split('<BODY>')[1:]).map(lambda x:x.split('</BODY>')[0]).map(lambda x:x.replace('\\n', ''))\n",
    "\n",
    "newsArticles.take(5)"
   ]
  },
  {
   "cell_type": "markdown",
   "metadata": {},
   "source": [
    "# (1) Given the Reuters-21578 dataset, please calculate all k-shingles and output the set representation of the text dataset as a matrix."
   ]
  },
  {
   "cell_type": "code",
   "execution_count": null,
   "metadata": {},
   "outputs": [],
   "source": []
  }
 ],
 "metadata": {
  "kernelspec": {
   "display_name": "Python 3",
   "language": "python",
   "name": "python3"
  },
  "language_info": {
   "codemirror_mode": {
    "name": "ipython",
    "version": 3
   },
   "file_extension": ".py",
   "mimetype": "text/x-python",
   "name": "python",
   "nbconvert_exporter": "python",
   "pygments_lexer": "ipython3",
   "version": "3.6.4"
  }
 },
 "nbformat": 4,
 "nbformat_minor": 2
}
