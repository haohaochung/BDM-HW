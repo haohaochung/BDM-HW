{
 "cells": [
  {
   "cell_type": "markdown",
   "metadata": {},
   "source": [
    "# get data body in spark"
   ]
  },
  {
   "cell_type": "code",
   "execution_count": 1,
   "metadata": {},
   "outputs": [
    {
     "data": {
      "text/plain": [
       "['If the dollar goes the way of Wall Street, Japanese will finally move out of dollar investments in a serious way, Japan investment managers say. The Japanese, the dominant foreign investors in U.S. Dollar securities, have already sold U.S. Equities. But \"if the dollar falls steeply, which did not happen yesterday, Japanese investors will definitely try to withdraw significant funds from U.S. Shares,\" said Akira Kawakami, deputy manager of Nomura Investment Trust and Management Co Ltd\\'s international investment department. An unstable, lower dollar would also affect Japanese investment in U.S. Bonds. \"Japan-U.S. Interest rate differentials, which currently look wide enough, mean nothing in the absence of dollar stability,\" said Kawakami. U.S. Bonds could benefit due to a gloomy economic picture following the estimated huge losses in stocks by major U.S. Institutional and individual investors, he said. The effect should be to rule out any U.S. Interest rate rise. But most Japanese investors in U.S. Bonds are still wiating to see if the dollar really is stable, he said. The dollar was holding firm at above 142 yen on Tuesday morning. \"Although Japanese investors sold huge amounts of stocks in New York yesterday, most are still looking for chances to lighten their U.S. Stock inventories,\" Hiromitsu Sunada, manager of Meiji Mutual Life Insurance Co\\'s international investment department said. Their sales helped send Wall Street stocks down 508 points to 1,738, the market\\'s biggest percentage drop since 1914. \"Investment in U.S. Stocks and bonds is difficult, considering the dangers,\" said Katsuhiko Okiyama, deputy general manager and chief adviser of Yamaichi Securities Co Ltd\\'s fixed income securities marketing group. Japanese investment at home could start to pick up once markets have stopped reacting to Wall Street, the managers said. The Tokyo yen bond market is likely to stabilise in one or two weeks, which is what investors have been waiting for. The bottom for yen bonds should be around a 6.3 pct yield for the 5.1 pct 89th bond, they said. \"The basic background which has supported the stocks and bonds markets has not changed,\" said Norio Okutsu, assistant general manager of Nikko Securities\\' bond department. \"But new outflows of funds to the U.S. Will be decreasing.\" However, this was already evident three months ago, he said. REUTER &#3;',\n",
       " \"NEC Corp &lt;NIPN.T> will supply &lt;Matra-Harris Semiconducteurs SA(A)> (MHS) of France with manufacturing technology for 16-bit microchips used in microcomputers, an NEC spokesman said. MHS, a joint venture between France's MATRA &lt;MATR.PA> and Harris Corp &lt;HRS> of the U.S., Will manufacture and market globally a microcomputer based on NEC's Micron PD 78312 and Micron PD78310 chips. MHS will pay NEC an undisclosed sum for the technology. REUTER &#3;\",\n",
       " 'The Finance Ministry will take a wait-and-see stance on Tokyo Stock Exchange movement, although it is gravely concerned about the sharp fall in stock prices, a senior Ministry official said. The official, who declined to be identified, told reporters the 7.3 pct drop in Tokyo stock prices this morning was caused primarily by psychological factors following the 22.5 pct fall in New York stock prices overnight. He said the Ministry is in close contact with the Tokyo Stock Exchange, but has no plans yet to take any specific measures regarding the fall. REUTER &#3;']"
      ]
     },
     "execution_count": 1,
     "metadata": {},
     "output_type": "execute_result"
    }
   ],
   "source": [
    "import re\n",
    "data = sc.wholeTextFiles('data/reut2-02*')\n",
    "newsArticles = data.map(lambda x:x[1]).flatMap(lambda x:x.split('<BODY>')[1:]).map(lambda x:x.split('</BODY>')[0])\\\n",
    "                   .map(lambda x:re.sub(' +', ' ', x.replace('\\n', ' ')))\n",
    "\n",
    "newsArticles.take(3)"
   ]
  },
  {
   "cell_type": "markdown",
   "metadata": {},
   "source": [
    "# (1) Given the Reuters-21578 dataset, please calculate all k-shingles and output the set representation of the text dataset as a matrix."
   ]
  },
  {
   "cell_type": "code",
   "execution_count": 2,
   "metadata": {},
   "outputs": [
    {
     "data": {
      "text/plain": [
       "['If ', 'f t', ' th', 'oll', 'lla']"
      ]
     },
     "execution_count": 2,
     "metadata": {},
     "output_type": "execute_result"
    }
   ],
   "source": [
    "k = 3\n",
    "shingles = newsArticles.flatMap(lambda x:[x[i:i+k] for i in range(len(x)-k+1)]).distinct()\n",
    "\n",
    "shingles.take(5)"
   ]
  },
  {
   "cell_type": "code",
   "execution_count": 3,
   "metadata": {},
   "outputs": [
    {
     "name": "stdout",
     "output_type": "stream",
     "text": [
      "13759 different shingles.\n",
      "1237 different articles.\n"
     ]
    }
   ],
   "source": [
    "shingles_count = shingles.count()\n",
    "articles_count = newsArticles.count()\n",
    "print(shingles_count, 'different shingles.')\n",
    "print(articles_count, 'different articles.')"
   ]
  },
  {
   "cell_type": "code",
   "execution_count": 4,
   "metadata": {},
   "outputs": [],
   "source": [
    "newsArticles = newsArticles.collect()\n",
    "kShinglesMatrix = shingles.map(lambda s:[1 if s in a else 0 for a in newsArticles]).collect()"
   ]
  },
  {
   "cell_type": "code",
   "execution_count": 5,
   "metadata": {},
   "outputs": [],
   "source": [
    "with open('result/kShinglesMatrix.txt', 'w') as result:\n",
    "    for row in kShinglesMatrix:\n",
    "        result.write(str(row) + '\\n')"
   ]
  },
  {
   "cell_type": "markdown",
   "metadata": {},
   "source": [
    "# (2) Given the set representation, compute the minhash signatures of all documents using MapReduce."
   ]
  },
  {
   "cell_type": "code",
   "execution_count": 6,
   "metadata": {},
   "outputs": [],
   "source": [
    "# # local version\n",
    "# h = 3\n",
    "\n",
    "# import random\n",
    "\n",
    "# minHashSignatures = list()\n",
    "# for i in range(h):\n",
    "#     rndIdx = random.sample(range(shingles_count), shingles_count)\n",
    "#     minHash = [-1]*articles_count\n",
    "#     while -1 in minHash:\n",
    "#         row = rndIdx.pop()\n",
    "#         for j in range(len(minHash)):\n",
    "#             if (minHash[j] == -1 or minHash[j] > row) and kShinglesMatrix[row][j] == 1:\n",
    "#                 minHash[j] = row\n",
    "#     minHashSignatures.append(minHash)"
   ]
  },
  {
   "cell_type": "code",
   "execution_count": 7,
   "metadata": {},
   "outputs": [],
   "source": [
    "import sys\n",
    "import random\n",
    "\n",
    "def biggerThanNFirstPrime(N):\n",
    "    p = 2\n",
    "    while True:\n",
    "        isPrime = True\n",
    "        for i in range(2,p//2+1):\n",
    "            if(p%i==0):\n",
    "                isPrime = False\n",
    "                break\n",
    "        if isPrime and p > N:\n",
    "            return p\n",
    "        else:\n",
    "            p+=1\n",
    "\n",
    "h = 3\n",
    "a = [random.randint(0, sys.maxsize) for i in range(h)]\n",
    "b = [random.randint(0, sys.maxsize) for i in range(h)]\n",
    "p = biggerThanNFirstPrime(articles_count)\n",
    "N = articles_count\n",
    "\n",
    "def rowHash(row, a, b, p, N):\n",
    "    return ((a*row+b)%p)%N"
   ]
  },
  {
   "cell_type": "code",
   "execution_count": 8,
   "metadata": {},
   "outputs": [],
   "source": [
    "minHashSignatures = list()\n",
    "for i in range(h):\n",
    "    minHashSignatures.append(sc.parallelize(kShinglesMatrix).zipWithIndex()\\\n",
    "                               .map(lambda x:[rowHash(x[1], a[i], b[i], p ,N) if c == 1 else sys.maxsize for c in x[0]])\\\n",
    "                               .reduce(lambda x, y:[Mx if Mx < My else My for Mx, My in zip(x, y)]))"
   ]
  },
  {
   "cell_type": "code",
   "execution_count": 9,
   "metadata": {},
   "outputs": [],
   "source": [
    "with open('result/minHashSignatures.txt', 'w') as result:\n",
    "    for row in minHashSignatures:\n",
    "        result.write(str(row) + '\\n')"
   ]
  }
 ],
 "metadata": {
  "kernelspec": {
   "display_name": "Python 3",
   "language": "python",
   "name": "python3"
  },
  "language_info": {
   "codemirror_mode": {
    "name": "ipython",
    "version": 3
   },
   "file_extension": ".py",
   "mimetype": "text/x-python",
   "name": "python",
   "nbconvert_exporter": "python",
   "pygments_lexer": "ipython3",
   "version": "3.6.4"
  }
 },
 "nbformat": 4,
 "nbformat_minor": 2
}
